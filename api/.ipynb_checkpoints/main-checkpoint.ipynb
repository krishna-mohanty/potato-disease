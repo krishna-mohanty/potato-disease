{
 "cells": [
  {
   "cell_type": "code",
   "execution_count": null,
   "id": "1056549d",
   "metadata": {},
   "outputs": [],
   "source": [
    "from fastapi import fastAPI\n",
    "\n",
    "app = FastAPI()\n",
    "\n",
    "@app.get(\"/ping\")\n",
    "async def ping():\n",
    "    return \"Hello, I am alive\""
   ]
  }
 ],
 "metadata": {
  "kernelspec": {
   "display_name": "Python 3 (ipykernel)",
   "language": "python",
   "name": "python3"
  },
  "language_info": {
   "codemirror_mode": {
    "name": "ipython",
    "version": 3
   },
   "file_extension": ".py",
   "mimetype": "text/x-python",
   "name": "python",
   "nbconvert_exporter": "python",
   "pygments_lexer": "ipython3",
   "version": "3.9.13"
  }
 },
 "nbformat": 4,
 "nbformat_minor": 5
}
